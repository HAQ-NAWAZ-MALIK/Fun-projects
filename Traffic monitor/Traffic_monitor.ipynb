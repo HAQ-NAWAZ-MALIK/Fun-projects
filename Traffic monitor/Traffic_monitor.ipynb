{
  "nbformat": 4,
  "nbformat_minor": 0,
  "metadata": {
    "colab": {
      "provenance": [],
      "gpuType": "T4"
    },
    "kernelspec": {
      "name": "python3",
      "display_name": "Python 3"
    },
    "language_info": {
      "name": "python"
    },
    "accelerator": "GPU"
  },
  "cells": [
    {
      "cell_type": "markdown",
      "source": [
        "# traffic monitor\n",
        "This Python project measures and displays your internet speed (both download and upload) and your current CPU usage.\n",
        "\n",
        "Essentially, this code provides a quick snapshot of your current internet and computer performance"
      ],
      "metadata": {
        "id": "tsYAzqUayJ1l"
      }
    },
    {
      "source": [
        "!pip install speedtest-cli"
      ],
      "cell_type": "code",
      "metadata": {
        "colab": {
          "base_uri": "https://localhost:8080/"
        },
        "id": "LxiDI8hasYNY",
        "outputId": "12bddf9a-5b61-4adc-cf7f-9833fa7f2d4c"
      },
      "execution_count": 2,
      "outputs": [
        {
          "output_type": "stream",
          "name": "stdout",
          "text": [
            "Collecting speedtest-cli\n",
            "  Downloading speedtest_cli-2.1.3-py2.py3-none-any.whl.metadata (6.8 kB)\n",
            "Downloading speedtest_cli-2.1.3-py2.py3-none-any.whl (23 kB)\n",
            "Installing collected packages: speedtest-cli\n",
            "Successfully installed speedtest-cli-2.1.3\n"
          ]
        }
      ]
    },
    {
      "cell_type": "code",
      "source": [
        "import psutil\n",
        "import speedtest\n",
        "import sys\n",
        "\n",
        "def get_internet_speed():\n",
        "    st = speedtest.Speedtest()\n",
        "    download_speed = st.download() / 10**6\n",
        "    upload_speed = st.upload() / 10**6\n",
        "    return download_speed, upload_speed\n",
        "\n",
        "def get_cpu_usage():\n",
        "    cpu_usage = psutil.cpu_percent()\n",
        "    return cpu_usage\n",
        "                                               #----BY HAQ NAWAZ MALIK\n",
        "def main():\n",
        "    download_speed, upload_speed = get_internet_speed()\n",
        "    cpu_usage = get_cpu_usage()\n",
        "\n",
        "    print(f\"Download Speed: {download_speed:.2f} Mbps\")\n",
        "    print(f\"Upload Speed: {upload_speed:.2f} Mbps\")\n",
        "    print(f\"CPU Usage: {cpu_usage}%\")\n",
        "    print(\"Project by HAQ NAWAZ MALIK\")\n",
        "\n",
        "def exit_mode():\n",
        "    sys.exit()\n",
        "\n",
        "# ...\n",
        "\n",
        "if __name__ == \"__main__\":\n",
        "    main()\n",
        "\n"
      ],
      "metadata": {
        "colab": {
          "base_uri": "https://localhost:8080/"
        },
        "id": "v-tsxtkxscBG",
        "outputId": "4e5c386e-b945-4e90-fcb6-310204141d0d"
      },
      "execution_count": 9,
      "outputs": [
        {
          "output_type": "stream",
          "name": "stdout",
          "text": [
            "Download Speed: 778.39 Mbps\n",
            "Upload Speed: 774.14 Mbps\n",
            "CPU Usage: 9.4%\n",
            "Project by HAQ NAWAZ MALIK\n"
          ]
        }
      ]
    }
  ]
}